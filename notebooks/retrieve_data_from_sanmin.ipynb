{
 "cells": [
  {
   "cell_type": "code",
   "execution_count": 5,
   "metadata": {},
   "outputs": [],
   "source": [
    "from typing import List, Dict\n",
    "import bs4\n",
    "import requests\n",
    "import re"
   ]
  },
  {
   "cell_type": "code",
   "execution_count": 26,
   "metadata": {},
   "outputs": [
    {
     "data": {
      "text/plain": [
       "200"
      ]
     },
     "execution_count": 26,
     "metadata": {},
     "output_type": "execute_result"
    }
   ],
   "source": [
    "url = 'https://www.sanmin.com.tw/Promote/Top/MBYY'\n",
    "r = requests.get(url)\n",
    "r.status_code"
   ]
  },
  {
   "cell_type": "code",
   "execution_count": 3,
   "metadata": {},
   "outputs": [
    {
     "data": {
      "text/plain": [
       "<li class=\"searchprod\" style=\"float:left;\">\n",
       "<div id=\"side-list\">\n",
       "<div class=\"side-parallel\">\n",
       "<div class=\"resultBooksImg product2img\">\n",
       "<ul class=\"statustagul\">\n",
       "<li><img alt=\"\" src=\"//cdnec.sanmin.com.tw/images/new3/new.gif\"/></li>\n",
       "</ul>\n",
       "<a href=\"/Product/index/007162258\" style=\"line-height:0;\">\n",
       "<img alt=\"\" border=\"0\" class=\"lazyload\" original=\"https://cdnec.sanmin.com.tw/product_images/153/153620862.jpg\" src=\"//cdnec.sanmin.com.tw/images/lazyload.gif\">\n",
       "</img></a>\n",
       "</div>\n",
       "<div class=\"resultBooksInfor Prod007162258\">\n",
       "<h3 style=\"height: 38px;line-height: 16px;overflow:hidden;\">\n",
       "<a href=\"/Product/index/007162258\">1.Maisy Goes Shopping (場景遊戲書)(硬頁書)(美國版)</a>\n",
       "</h3>\n",
       "<div>\n",
       "<div>\n",
       "<span style=\"font-weight:700;\">\n",
       "                                                優惠價：\n",
       "                                                <span style=\"color: red\">75</span>折\n",
       "                                                <span style=\"color: red; font-size: 20px\">236</span>元\n",
       "                                            </span>\n",
       "</div>\n",
       "<div class=\"sideLayout addLayout\">\n",
       "<button class=\"addCollect\" onclick=\"AddFavorite('007162258');\" type=\"button\">\n",
       "<i class=\"fas fa-heart\"></i> <span class=\"carname\">加入收藏</span>\n",
       "</button>\n",
       "<button class=\"addCartNormal\" onclick=\"javascript:AddItem('007162258',false);\" type=\"button\">\n",
       "<i class=\"fas fa-shopping-cart\"></i> <span class=\"carname\">一般購物車</span>\n",
       "</button>\n",
       "</div>\n",
       "<div class=\"resultBooksLayout\">\n",
       "<div class=\"stock\"> 庫存 &gt; 10 </div>\n",
       "</div>\n",
       "</div>\n",
       "</div>\n",
       "</div>\n",
       "</div>\n",
       "</li>"
      ]
     },
     "execution_count": 3,
     "metadata": {},
     "output_type": "execute_result"
    }
   ],
   "source": [
    "soup = bs4.BeautifulSoup(r.text, \"html.parser\")\n",
    "books = soup.find_all(class_=\"searchprod\")\n",
    "books[0]"
   ]
  },
  {
   "cell_type": "code",
   "execution_count": 19,
   "metadata": {},
   "outputs": [
    {
     "data": {
      "text/plain": [
       "'Maisy Goes Shopping (場景遊戲書)(硬頁書)(美國版)'"
      ]
     },
     "execution_count": 19,
     "metadata": {},
     "output_type": "execute_result"
    }
   ],
   "source": [
    "pattern = re.compile(r'(\\d+)\\.(.+)')\n",
    "pattern.search(str(books[0].h3.a.string)).group(2)"
   ]
  },
  {
   "cell_type": "code",
   "execution_count": 16,
   "metadata": {},
   "outputs": [
    {
     "name": "stdout",
     "output_type": "stream",
     "text": [
      "https://www.sanmin.com.tw//Product/index/007162258\n"
     ]
    }
   ],
   "source": [
    "print(\"https://www.sanmin.com.tw/\" + books[0].h3.a.get(\"href\"))"
   ]
  },
  {
   "cell_type": "code",
   "execution_count": 14,
   "metadata": {},
   "outputs": [
    {
     "data": {
      "text/plain": [
       "'236'"
      ]
     },
     "execution_count": 14,
     "metadata": {},
     "output_type": "execute_result"
    }
   ],
   "source": [
    "books[0].span.find(style=\"color: red; font-size: 20px\").string"
   ]
  },
  {
   "cell_type": "code",
   "execution_count": 20,
   "metadata": {},
   "outputs": [
    {
     "data": {
      "text/plain": [
       "<li class=\"searchprod\" style=\"float:left;\">\n",
       "<div id=\"side-list\">\n",
       "<div class=\"side-parallel\">\n",
       "<div class=\"resultBooksImg product2img\">\n",
       "<ul class=\"statustagul\">\n",
       "<li><img alt=\"\" src=\"//cdnec.sanmin.com.tw/images/new3/new.gif\"/></li>\n",
       "</ul>\n",
       "<a href=\"/Product/index/007162258\" style=\"line-height:0;\">\n",
       "<img alt=\"\" border=\"0\" class=\"lazyload\" original=\"https://cdnec.sanmin.com.tw/product_images/153/153620862.jpg\" src=\"//cdnec.sanmin.com.tw/images/lazyload.gif\">\n",
       "</img></a>\n",
       "</div>\n",
       "<div class=\"resultBooksInfor Prod007162258\">\n",
       "<h3 style=\"height: 38px;line-height: 16px;overflow:hidden;\">\n",
       "<a href=\"/Product/index/007162258\">1.Maisy Goes Shopping (場景遊戲書)(硬頁書)(美國版)</a>\n",
       "</h3>\n",
       "<div>\n",
       "<div>\n",
       "<span style=\"font-weight:700;\">\n",
       "                                                優惠價：\n",
       "                                                <span style=\"color: red\">75</span>折\n",
       "                                                <span style=\"color: red; font-size: 20px\">236</span>元\n",
       "                                            </span>\n",
       "</div>\n",
       "<div class=\"sideLayout addLayout\">\n",
       "<button class=\"addCollect\" onclick=\"AddFavorite('007162258');\" type=\"button\">\n",
       "<i class=\"fas fa-heart\"></i> <span class=\"carname\">加入收藏</span>\n",
       "</button>\n",
       "<button class=\"addCartNormal\" onclick=\"javascript:AddItem('007162258',false);\" type=\"button\">\n",
       "<i class=\"fas fa-shopping-cart\"></i> <span class=\"carname\">一般購物車</span>\n",
       "</button>\n",
       "</div>\n",
       "<div class=\"resultBooksLayout\">\n",
       "<div class=\"stock\"> 庫存 &gt; 10 </div>\n",
       "</div>\n",
       "</div>\n",
       "</div>\n",
       "</div>\n",
       "</div>\n",
       "</li>"
      ]
     },
     "execution_count": 20,
     "metadata": {},
     "output_type": "execute_result"
    }
   ],
   "source": [
    "books[0]"
   ]
  },
  {
   "cell_type": "code",
   "execution_count": 40,
   "metadata": {},
   "outputs": [],
   "source": [
    "def sanmin_topten() -> List[Dict]:\n",
    "    topten = []\n",
    "    url = 'https://www.sanmin.com.tw/Promote/Top/MBYY'\n",
    "    r = requests.get(url)\n",
    "    if r.status_code != 200:\n",
    "        print(\"Bad connection, scrap failed!\")\n",
    "        return\n",
    "    soup = bs4.BeautifulSoup(r.text, \"html.parser\")\n",
    "    books = soup.find_all(class_=\"searchprod\")[:10]\n",
    "    pattern = re.compile(r'(\\d+)\\.(.+)')\n",
    "    rank = 1\n",
    "    for b in books:\n",
    "        record = {\n",
    "            \"rank\": rank,\n",
    "            \"name\": pattern.search(str(b.h3.a.string)).group(2),\n",
    "            \"price\": int(b.span.find(style=\"color: red; font-size: 20px\").string),\n",
    "            \"url\": \"https://www.sanmin.com.tw/\" + books[0].h3.a.get(\"href\")\n",
    "        }\n",
    "        rank += 1\n",
    "        topten.append(record)\n",
    "    return topten"
   ]
  },
  {
   "cell_type": "code",
   "execution_count": 41,
   "metadata": {},
   "outputs": [
    {
     "data": {
      "text/plain": [
       "[{'rank': 1,\n",
       "  'name': 'Maisy Goes Shopping (場景遊戲書)(硬頁書)(美國版)',\n",
       "  'price': 236,\n",
       "  'url': 'https://www.sanmin.com.tw//Product/index/007162258'},\n",
       " {'rank': 2,\n",
       "  'name': 'Meekoo And The Bedtime Bunny (硬頁音效書)',\n",
       "  'price': 379,\n",
       "  'url': 'https://www.sanmin.com.tw//Product/index/007162258'},\n",
       " {'rank': 3,\n",
       "  'name': 'Meekoo And The Big Red Potty (硬頁音效書)',\n",
       "  'price': 379,\n",
       "  'url': 'https://www.sanmin.com.tw//Product/index/007162258'},\n",
       " {'rank': 4,\n",
       "  'name': '新制多益NEW TOEIC單字大全：2018起多益更新單字資訊完全掌握！',\n",
       "  'price': 394,\n",
       "  'url': 'https://www.sanmin.com.tw//Product/index/007162258'},\n",
       " {'rank': 5,\n",
       "  'name': 'Twinkle Twinkle Little Star (硬頁音效書)',\n",
       "  'price': 417,\n",
       "  'url': 'https://www.sanmin.com.tw//Product/index/007162258'},\n",
       " {'rank': 6,\n",
       "  'name': 'Meekoo and the Little Nursery (硬頁音效書)',\n",
       "  'price': 379,\n",
       "  'url': 'https://www.sanmin.com.tw//Product/index/007162258'},\n",
       " {'rank': 7,\n",
       "  'name': '康寧引航高中化學複習：分科測驗篇',\n",
       "  'price': 315,\n",
       "  'url': 'https://www.sanmin.com.tw//Product/index/007162258'},\n",
       " {'rank': 8,\n",
       "  'name': '新大滿貫複習講義：物理（下）－高中選修物理I～V',\n",
       "  'price': 366,\n",
       "  'url': 'https://www.sanmin.com.tw//Product/index/007162258'},\n",
       " {'rank': 9,\n",
       "  'name': 'Happy Birthday to You! (硬頁音效書)',\n",
       "  'price': 417,\n",
       "  'url': 'https://www.sanmin.com.tw//Product/index/007162258'},\n",
       " {'rank': 10,\n",
       "  'name': 'Bizzy Bear: Zoo Ranger (1玩偶+1硬頁書)',\n",
       "  'price': 519,\n",
       "  'url': 'https://www.sanmin.com.tw//Product/index/007162258'}]"
      ]
     },
     "execution_count": 41,
     "metadata": {},
     "output_type": "execute_result"
    }
   ],
   "source": [
    "sanmin_topten()"
   ]
  },
  {
   "cell_type": "code",
   "execution_count": null,
   "metadata": {},
   "outputs": [],
   "source": []
  }
 ],
 "metadata": {
  "interpreter": {
   "hash": "6767928a2f088fec385fce67ee936276fe1e374abe3442e79e58294ccee8c84a"
  },
  "kernelspec": {
   "display_name": "Python 3.10.0 ('books')",
   "language": "python",
   "name": "python3"
  },
  "language_info": {
   "codemirror_mode": {
    "name": "ipython",
    "version": 3
   },
   "file_extension": ".py",
   "mimetype": "text/x-python",
   "name": "python",
   "nbconvert_exporter": "python",
   "pygments_lexer": "ipython3",
   "version": "3.10.0"
  },
  "orig_nbformat": 4
 },
 "nbformat": 4,
 "nbformat_minor": 2
}
