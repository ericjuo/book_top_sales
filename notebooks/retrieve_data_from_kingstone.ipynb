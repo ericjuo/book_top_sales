{
 "cells": [
  {
   "cell_type": "code",
   "execution_count": 44,
   "metadata": {},
   "outputs": [],
   "source": [
    "import bs4\n",
    "import requests\n",
    "from datetime import date\n",
    "from typing import List, Dict"
   ]
  },
  {
   "cell_type": "code",
   "execution_count": 24,
   "metadata": {},
   "outputs": [
    {
     "data": {
      "text/plain": [
       "<Response [200]>"
      ]
     },
     "execution_count": 24,
     "metadata": {},
     "output_type": "execute_result"
    }
   ],
   "source": [
    "today = date.today()\n",
    "if today.month -1 == 0:\n",
    "    y = today.year - 1\n",
    "    m = 12\n",
    "else:\n",
    "    y = today.year\n",
    "    m = today.month -1\n",
    "\n",
    "url = 'https://www.kingstone.com.tw/bestseller/best/book?ranktype=m&y=%s&d=%s' % (y, m)\n",
    "headers = {'user-agent': 'Mozilla/5.0'}\n",
    "r = requests.get(url, headers=headers)\n",
    "r"
   ]
  },
  {
   "cell_type": "code",
   "execution_count": 26,
   "metadata": {},
   "outputs": [
    {
     "data": {
      "text/plain": [
       "'\\r<!DOCTYPE html>\\r<html prefix=\"og: http://ogp.me/ns#\" lang=\"zh-Hant-TW\">\\r<head>\\r<meta http-equiv=\"content-type\" content=\"text/html; charset=utf-8\">\\r<meta http-equiv=\"X-UA-Compatible\" content=\"IE=edge\">\\r<meta name=\"viewport\" content=\"width=device-width, initial-scale=1.0\">\\r\\r<title>金石堂－百大暢銷榜</title>\\r<meta name=\"description\" content=\"金幣天天現領現折！暢銷百大、最新電子書、出版情報、總裁選書，所有最新最top趨勢閱讀、新鮮話題完整呈現。每日精選66折、會員日金幣加碼，更多好康優惠……\">\\r<meta name=\"keywords\" content=\"現折,獨家書,電子禮券,金石堂書店,金石堂網路書店,金石堂排行榜,最想看的書,文學排行榜,財經書排行榜,賣最好的書,大家最想看,{0}推薦書,動畫化,動漫\">\\r<meta property=\"og:site_name\" content=\"金石堂\">\\r<meta property=\"og:title\" content=\"金石堂－百大暢銷榜\">\\r<meta property=\"og:type\" content=\"product\">\\r<meta property=\"og:url\" content=\"https://www.kingstone.com.tw/bestseller/best/book?ranktype=m&amp;y=2022&amp;d=2\">\\r<meta property=\"og:description\" content=\"金幣天天現領現折！暢銷百大、最新電子書、出版情報、總裁選書，所有最新最top趨勢閱讀、新鮮話題完整呈現。每日精選66折、會員日金幣加碼，更多好康優惠……\">\\r<meta property=\"og:image\" content=\"https://cdn.kingstone.com.tw/newadmin/userpics/billboard_share.jpg\">\\r<l'"
      ]
     },
     "execution_count": 26,
     "metadata": {},
     "output_type": "execute_result"
    }
   ],
   "source": [
    "r.text[:1000]"
   ]
  },
  {
   "cell_type": "code",
   "execution_count": 27,
   "metadata": {},
   "outputs": [
    {
     "data": {
      "text/plain": [
       "<li class=\"modProList\"> <div class=\"modProRank proTopX\"> <p class=\"hotUP\" title=\"排名上升\"></p>\n",
       "TOP<span>1</span> </div> <div class=\"modProPic\"> <a href=\"/basic/2019460209500?zone=book&amp;lid=book_ranking_sell\"><img alt=\"療傷遊戲 重新開始 （首刷限定版）02\" class=\"lazyload\" data-src=\"https://cdn.kingstone.com.tw/book/images/product/20194/2019460209500/2019460209500m.jpg\" height=\"750\" onerror=\"this.onerror=null; this.src='https://cdn.kingstone.com.tw/images/noimg_load.png';\" src=\"https://cdn.kingstone.com.tw/images/noimg_load.png\" title=\"療傷遊戲 重新開始 （首刷限定版）02\" width=\"750\"/></a> </div> <div class=\"modProName\"> <a href=\"/basic/2019460209500?zone=book&amp;lid=book_ranking_sell\">療傷遊戲 重新開始 （首刷限定版）02</a></div> <div class=\"modProAuthor\"> <a class=\"mProBlue\" href=\"javascript:location.href=SearchLink('日ノ原巡','','au');\">日ノ原巡</a> 著</div> <div class=\"modProStar\">★★★★★</div><div class=\"buymixbox\"> <div class=\"priceset\"><span><b class=\"b1\">85</b>折</span><span>特價<b>170</b>元</span></div> <div class=\"btnbuyset\"><div class=\"btnbuy btnbuy4\"><a href=\"#\" onclick=\"productChase('2019460209500','avl')\"><span>貨到通知</span></a></div></div> </div> <div class=\"nextbuybox\"></div> </li>"
      ]
     },
     "execution_count": 27,
     "metadata": {},
     "output_type": "execute_result"
    }
   ],
   "source": [
    "soup = bs4.BeautifulSoup(r.text)\n",
    "soup.find_all(class_='modProList')[0]"
   ]
  },
  {
   "cell_type": "code",
   "execution_count": 28,
   "metadata": {},
   "outputs": [],
   "source": [
    "books = soup.find_all(class_='modProList')"
   ]
  },
  {
   "cell_type": "code",
   "execution_count": 35,
   "metadata": {},
   "outputs": [
    {
     "data": {
      "text/plain": [
       "'療傷遊戲 重新開始 （首刷限定版）02'"
      ]
     },
     "execution_count": 35,
     "metadata": {},
     "output_type": "execute_result"
    }
   ],
   "source": [
    "books[0].find_all(\"a\")[1].string"
   ]
  },
  {
   "cell_type": "code",
   "execution_count": 39,
   "metadata": {},
   "outputs": [
    {
     "name": "stdout",
     "output_type": "stream",
     "text": [
      "https://www.kingstone.com.tw/basic/2019460209500?zone=book&lid=book_ranking_sell\n"
     ]
    }
   ],
   "source": [
    "print(\"https://www.kingstone.com.tw\" + books[0].find_all(\"a\")[1].get(\"href\"))"
   ]
  },
  {
   "cell_type": "code",
   "execution_count": 41,
   "metadata": {},
   "outputs": [
    {
     "data": {
      "text/plain": [
       "'170'"
      ]
     },
     "execution_count": 41,
     "metadata": {},
     "output_type": "execute_result"
    }
   ],
   "source": [
    "books[0].find_all(\"b\")[1].string"
   ]
  },
  {
   "cell_type": "code",
   "execution_count": 42,
   "metadata": {},
   "outputs": [
    {
     "data": {
      "text/plain": [
       "'我的網紅男友外傳小說～現正同居中（首刷限定版）（全）'"
      ]
     },
     "execution_count": 42,
     "metadata": {},
     "output_type": "execute_result"
    }
   ],
   "source": [
    "books[1].find_all(\"a\")[1].string"
   ]
  },
  {
   "cell_type": "code",
   "execution_count": 50,
   "metadata": {},
   "outputs": [],
   "source": [
    "def kingstone_topten() -> List[Dict]:\n",
    "    topten = []\n",
    "    today = date.today()\n",
    "    if today.month -1 == 0:\n",
    "        y = today.year - 1\n",
    "        m = 12\n",
    "    else:\n",
    "        y = today.year\n",
    "        m = today.month -1\n",
    "\n",
    "    url = 'https://www.kingstone.com.tw/bestseller/best/book?ranktype=m&y=%s&d=%s' % (y, m)\n",
    "    headers = {'user-agent': 'Mozilla/5.0'}\n",
    "    try:\n",
    "        r = requests.get(url, headers=headers)\n",
    "    except:\n",
    "        print(\"Bad connection, scrap failed!\")\n",
    "        return\n",
    "    soup = bs4.BeautifulSoup(r.text, \"html.parser\")\n",
    "    books = soup.find_all(class_='modProList')[:10]\n",
    "    rank = 1\n",
    "    for b in books:\n",
    "        record = {\n",
    "            'rank': rank,\n",
    "            'name': b.find_all(\"a\")[1].string,\n",
    "            'price': int(b.find_all(\"b\")[1].string),\n",
    "            'url': \"https://www.kingstone.com.tw\" + books[0].find_all(\"a\")[1].get(\"href\")\n",
    "        }\n",
    "        topten.append(record)\n",
    "        rank += 1\n",
    "    return topten\n"
   ]
  },
  {
   "cell_type": "code",
   "execution_count": 51,
   "metadata": {},
   "outputs": [
    {
     "data": {
      "text/plain": [
       "[{'rank': 1,\n",
       "  'name': '療傷遊戲 重新開始 （首刷限定版）02',\n",
       "  'price': 170,\n",
       "  'url': 'https://www.kingstone.com.tw/basic/2019460209500?zone=book&lid=book_ranking_sell'},\n",
       " {'rank': 2,\n",
       "  'name': '我的網紅男友外傳小說～現正同居中（首刷限定版）（全）',\n",
       "  'price': 366,\n",
       "  'url': 'https://www.kingstone.com.tw/basic/2019460209500?zone=book&lid=book_ranking_sell'},\n",
       " {'rank': 3,\n",
       "  'name': '菈菈的婚禮  第三卷  首刷限定版',\n",
       "  'price': 157,\n",
       "  'url': 'https://www.kingstone.com.tw/basic/2019460209500?zone=book&lid=book_ranking_sell'},\n",
       " {'rank': 4,\n",
       "  'name': '療傷遊戲 重新開始 02',\n",
       "  'price': 119,\n",
       "  'url': 'https://www.kingstone.com.tw/basic/2019460209500?zone=book&lid=book_ranking_sell'},\n",
       " {'rank': 5,\n",
       "  'name': '美好結局 （首刷限定版）（全）',\n",
       "  'price': 306,\n",
       "  'url': 'https://www.kingstone.com.tw/basic/2019460209500?zone=book&lid=book_ranking_sell'},\n",
       " {'rank': 6,\n",
       "  'name': 'Daisy Jealousy【愛著你的善妒】（全）',\n",
       "  'price': 119,\n",
       "  'url': 'https://www.kingstone.com.tw/basic/2019460209500?zone=book&lid=book_ranking_sell'},\n",
       " {'rank': 7,\n",
       "  'name': 'NO GAME NO LIFE 遊戲人生 11.遊戲玩家兄妹似乎必須成為情侶才能離開 （首刷限定版）',\n",
       "  'price': 484,\n",
       "  'url': 'https://www.kingstone.com.tw/basic/2019460209500?zone=book&lid=book_ranking_sell'},\n",
       " {'rank': 8,\n",
       "  'name': '紅線特別篇The Red Thread',\n",
       "  'price': 213,\n",
       "  'url': 'https://www.kingstone.com.tw/basic/2019460209500?zone=book&lid=book_ranking_sell'},\n",
       " {'rank': 9,\n",
       "  'name': '全知讀者視角03',\n",
       "  'price': 383,\n",
       "  'url': 'https://www.kingstone.com.tw/basic/2019460209500?zone=book&lid=book_ranking_sell'},\n",
       " {'rank': 10,\n",
       "  'name': '屬於我們的湛藍軌跡  湛藍色的愛戀 番外篇',\n",
       "  'price': 111,\n",
       "  'url': 'https://www.kingstone.com.tw/basic/2019460209500?zone=book&lid=book_ranking_sell'}]"
      ]
     },
     "execution_count": 51,
     "metadata": {},
     "output_type": "execute_result"
    }
   ],
   "source": [
    "kingstone_topten()"
   ]
  },
  {
   "cell_type": "code",
   "execution_count": null,
   "metadata": {},
   "outputs": [],
   "source": []
  }
 ],
 "metadata": {
  "interpreter": {
   "hash": "6767928a2f088fec385fce67ee936276fe1e374abe3442e79e58294ccee8c84a"
  },
  "kernelspec": {
   "display_name": "Python 3.10.0 ('books')",
   "language": "python",
   "name": "python3"
  },
  "language_info": {
   "codemirror_mode": {
    "name": "ipython",
    "version": 3
   },
   "file_extension": ".py",
   "mimetype": "text/x-python",
   "name": "python",
   "nbconvert_exporter": "python",
   "pygments_lexer": "ipython3",
   "version": "3.10.0"
  },
  "orig_nbformat": 4
 },
 "nbformat": 4,
 "nbformat_minor": 2
}
