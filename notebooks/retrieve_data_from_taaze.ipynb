{
 "cells": [
  {
   "cell_type": "code",
   "execution_count": 7,
   "metadata": {},
   "outputs": [],
   "source": [
    "from selenium import webdriver\n",
    "import bs4\n",
    "from typing import List, Dict\n"
   ]
  },
  {
   "cell_type": "code",
   "execution_count": 8,
   "metadata": {},
   "outputs": [],
   "source": [
    "url = 'https://www.taaze.tw/rwd_listViewB.html?t=01&k=00&d=00&l=00&a=01'\n",
    "driver = webdriver.Chrome(\"../src/d00_utils/chromedriver\")\n",
    "driver.get(url)\n",
    "html = driver.page_source\n",
    "driver.close()\n",
    "driver.quit()"
   ]
  },
  {
   "cell_type": "code",
   "execution_count": 9,
   "metadata": {},
   "outputs": [
    {
     "data": {
      "text/plain": [
       "<div class=\"bookGridByListView\"><div class=\"\"><div style=\"position: relative;\"><div class=\"bestSellRank\">1</div><a href=\"/products/11100876604.html\" onclick=\"historyStatByListView(this, event, 10000)\"><img alt=\"\" class=\"bookImage\" data-holder-rendered=\"true\" data-src=\"holder.js/100%x195\" id=\"bookImgPCGrid0\" src=\"https://media.taaze.tw/showThumbnail.html?sc=11100876604&amp;height=220&amp;width=180\"/></a></div><div class=\"caption bookCaption\"><ul style=\"list-style:none; margin:0; padding:0;\"><li class=\"prod_TitleMain\"><a href=\"/products/11100876604.html\" onclick=\"historyStatByListView(this, event, 10000)\">原子習慣：細微改變帶來巨大成就的實證法則</a></li><li class=\"prod_author\">作者：<a href=\"/rwd_searchResult.html?keyword%5B%5D=詹姆斯．克利爾&amp;keyType%5B%5D=2\">詹姆斯．克利爾</a></li><li class=\"discPrice\">優惠價：<span style=\"color:#e3007f\">88</span>折<span>290</span>元</li></ul></div></div></div>"
      ]
     },
     "execution_count": 9,
     "metadata": {},
     "output_type": "execute_result"
    }
   ],
   "source": [
    "soup = bs4.BeautifulSoup(html, \"html.parser\")\n",
    "books = soup.find_all(class_=\"bookGridByListView\")\n",
    "books[0]"
   ]
  },
  {
   "cell_type": "code",
   "execution_count": 11,
   "metadata": {},
   "outputs": [
    {
     "data": {
      "text/plain": [
       "'原子習慣：細微改變帶來巨大成就的實證法則'"
      ]
     },
     "execution_count": 11,
     "metadata": {},
     "output_type": "execute_result"
    }
   ],
   "source": [
    "books[0].find_all(\"a\")[1].string"
   ]
  },
  {
   "cell_type": "code",
   "execution_count": 15,
   "metadata": {},
   "outputs": [
    {
     "name": "stdout",
     "output_type": "stream",
     "text": [
      "https://www.taaze.tw//products/11100876604.html\n"
     ]
    }
   ],
   "source": [
    "print(\"https://www.taaze.tw/\" + books[0].find_all(\"a\")[1].get(\"href\"))"
   ]
  },
  {
   "cell_type": "code",
   "execution_count": 14,
   "metadata": {},
   "outputs": [
    {
     "data": {
      "text/plain": [
       "'290'"
      ]
     },
     "execution_count": 14,
     "metadata": {},
     "output_type": "execute_result"
    }
   ],
   "source": [
    "books[0].find_all(\"span\")[1].string"
   ]
  },
  {
   "cell_type": "code",
   "execution_count": 19,
   "metadata": {},
   "outputs": [],
   "source": [
    "def taaze_topten() -> List[Dict]:\n",
    "    topten =[]\n",
    "    url = 'https://www.taaze.tw/rwd_listViewB.html?t=01&k=00&d=00&l=00&a=01'\n",
    "    driver = webdriver.Chrome(\"../src/d00_utils/chromedriver\")\n",
    "    driver.get(url)\n",
    "    html = driver.page_source\n",
    "    driver.close()\n",
    "    driver.quit()\n",
    "    soup = bs4.BeautifulSoup(html, \"html.parser\")\n",
    "    books = soup.find_all(class_=\"bookGridByListView\")[:10]\n",
    "    rank = 1\n",
    "    for b in books:\n",
    "        record = {\n",
    "            \"rank\": rank,\n",
    "            \"name\": b.find_all(\"a\")[1].string,\n",
    "            \"price\": int(b.find_all(\"span\")[1].string),\n",
    "            \"url\": \"https://www.taaze.tw/\" + books[0].find_all(\"a\")[1].get(\"href\")\n",
    "        }\n",
    "        rank += 1\n",
    "        topten.append(record)\n",
    "    return topten"
   ]
  },
  {
   "cell_type": "code",
   "execution_count": 20,
   "metadata": {},
   "outputs": [
    {
     "data": {
      "text/plain": [
       "[{'rank': 1,\n",
       "  'name': '原子習慣：細微改變帶來巨大成就的實證法則',\n",
       "  'price': 290,\n",
       "  'url': 'https://www.taaze.tw//products/11100876604.html'},\n",
       " {'rank': 2,\n",
       "  'name': '給存股新手的財富翻滾筆記【隨書附贈：存股新手SOP小冊】：最適合小資族的「金融股543規律」，用薪水4萬輕鬆打造年收股息20萬！',\n",
       "  'price': 300,\n",
       "  'url': 'https://www.taaze.tw//products/11100876604.html'},\n",
       " {'rank': 3,\n",
       "  'name': '塔木德：猶太人的致富聖經［修訂版］：1000多年來帶領猶太人快速累積財富的神祕經典',\n",
       "  'price': 198,\n",
       "  'url': 'https://www.taaze.tw//products/11100876604.html'},\n",
       " {'rank': 4,\n",
       "  'name': '好好說話：粉絲破千萬！最強說話團隊教你新鮮有趣的話術精進技巧',\n",
       "  'price': 264,\n",
       "  'url': 'https://www.taaze.tw//products/11100876604.html'},\n",
       " {'rank': 5,\n",
       "  'name': '緣起性空通往一切美好：放下執著、人生沒煩惱的佛法36問',\n",
       "  'price': 300,\n",
       "  'url': 'https://www.taaze.tw//products/11100876604.html'},\n",
       " {'rank': 6,\n",
       "  'name': '氣質系硬筆1000字帖',\n",
       "  'price': 221,\n",
       "  'url': 'https://www.taaze.tw//products/11100876604.html'},\n",
       " {'rank': 7,\n",
       "  'name': '從沉鬱到淡定：大學生情緒療癒繪本解題書目',\n",
       "  'price': 277,\n",
       "  'url': 'https://www.taaze.tw//products/11100876604.html'},\n",
       " {'rank': 8,\n",
       "  'name': '與身體對話，就是與神對話',\n",
       "  'price': 264,\n",
       "  'url': 'https://www.taaze.tw//products/11100876604.html'},\n",
       " {'rank': 9,\n",
       "  'name': '幸福連線：用禱告和天父連線',\n",
       "  'price': 47,\n",
       "  'url': 'https://www.taaze.tw//products/11100876604.html'},\n",
       " {'rank': 10,\n",
       "  'name': '做孩子需要的媽媽，就好：教授媽媽郭葉珍〔聽、愛、馭〕三步驟，化解衝突，讓孩子願意聽你說',\n",
       "  'price': 300,\n",
       "  'url': 'https://www.taaze.tw//products/11100876604.html'}]"
      ]
     },
     "execution_count": 20,
     "metadata": {},
     "output_type": "execute_result"
    }
   ],
   "source": [
    "taaze_topten()"
   ]
  },
  {
   "cell_type": "code",
   "execution_count": null,
   "metadata": {},
   "outputs": [],
   "source": []
  }
 ],
 "metadata": {
  "interpreter": {
   "hash": "6767928a2f088fec385fce67ee936276fe1e374abe3442e79e58294ccee8c84a"
  },
  "kernelspec": {
   "display_name": "Python 3.10.0 ('books')",
   "language": "python",
   "name": "python3"
  },
  "language_info": {
   "codemirror_mode": {
    "name": "ipython",
    "version": 3
   },
   "file_extension": ".py",
   "mimetype": "text/x-python",
   "name": "python",
   "nbconvert_exporter": "python",
   "pygments_lexer": "ipython3",
   "version": "3.10.0"
  },
  "orig_nbformat": 4
 },
 "nbformat": 4,
 "nbformat_minor": 2
}
