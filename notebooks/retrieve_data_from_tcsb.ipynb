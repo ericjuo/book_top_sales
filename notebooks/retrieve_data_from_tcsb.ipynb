{
 "cells": [
  {
   "cell_type": "code",
   "execution_count": 1,
   "metadata": {},
   "outputs": [],
   "source": [
    "from typing import List, Dict\n",
    "import bs4\n",
    "import requests\n",
    "import re\n",
    "from selenium import webdriver"
   ]
  },
  {
   "cell_type": "code",
   "execution_count": 2,
   "metadata": {},
   "outputs": [
    {
     "data": {
      "text/plain": [
       "<div class=\"product-card__vertical product-card__vertical--hover\"><a href=\"/SalePage/Index/7590401\"><div class=\"product-card__vertical__wrapper\"><div class=\"product-card__vertical__media-container\"><figure class=\"product-card__vertical__frame product-card__vertical__frame-square\"><img alt=\"NO GAME NO LIFE遊戲人生(11)遊戲玩家兄妹似乎必須成為情侶才能離開\" class=\"product-card__vertical__media product-card__vertical__media-tall\" loading=\"lazy\" src=\"//diz36nn4q02zr.cloudfront.net/webapi/imagesV3/Cropped/SalePage/7590401/0/637839121609070000?v=1\"/></figure></div><div class=\"sc-fzXfPa jgVQyK\"><div class=\"sc-fzXfNO cjNSCe\" style=\"font-weight: normal; font-size: 14px;\">NO GAME NO LIFE遊戲人生(11)遊戲玩家兄妹似乎必須成為情侶才能離開</div><div class=\"sc-fzXfPb cGHHMq\"><div class=\"sc-fzXfNP cjWpgn\"><div class=\"sc-fzXfNQ gzUqcT\">NT$270</div><div class=\"sc-fzXfNR bsRQkb\">NT$243</div></div><div class=\"sc-fzXfOw eMXOwU\"><span class=\"sc-AykKJ kwmSYL\"><i class=\"icon icon-heart-o\"></i></span><span class=\"sc-fzXfOr cuPtZS\"><i class=\"icon icon-cart\"></i></span></div></div></div></div></a></div>"
      ]
     },
     "execution_count": 2,
     "metadata": {},
     "output_type": "execute_result"
    }
   ],
   "source": [
    "url = \"https://www.tcsb.com.tw/v2/official/SalePageCategory/264475?sortMode=Sales\"\n",
    "driver = webdriver.Chrome(\"../src/d00_utils/chromedriver\")\n",
    "driver.get(url)\n",
    "html = driver.page_source\n",
    "\n",
    "soup = bs4.BeautifulSoup(html, \"html.parser\")\n",
    "books = soup.find_all(class_=\"product-card__vertical product-card__vertical--hover\")\n",
    "books[0]\n"
   ]
  },
  {
   "cell_type": "code",
   "execution_count": 12,
   "metadata": {},
   "outputs": [
    {
     "data": {
      "text/plain": [
       "<div class=\"product-card__vertical product-card__vertical--hover\"><a href=\"/SalePage/Index/7566854\"><div class=\"product-card__vertical__wrapper\"><div class=\"product-card__vertical__media-container\"><figure class=\"product-card__vertical__frame product-card__vertical__frame-square\"><img alt=\"咒術迴戰(18)\" class=\"product-card__vertical__media product-card__vertical__media-tall\" loading=\"lazy\" src=\"//diz36nn4q02zr.cloudfront.net/webapi/imagesV3/Cropped/SalePage/7566854/0/637839117260030000?v=1\"/></figure></div><div class=\"sc-fzXfPa jgVQyK\"><div class=\"sc-fzXfNO cjNSCe\" style=\"font-weight: normal; font-size: 14px;\">咒術迴戰(18)</div><div class=\"sc-fzXfPb cGHHMq\"><div class=\"sc-fzXfNP cjWpgn\"><div class=\"sc-fzXfNQ gzUqcT\">NT$100</div><div class=\"sc-fzXfNR bsRQkb\">NT$90</div></div><div class=\"sc-fzXfOw eMXOwU\"><span class=\"sc-AykKJ kwmSYL\"><i class=\"icon icon-heart-o\"></i></span><span class=\"sc-fzXfOr cuPtZS\"><i class=\"icon icon-cart\"></i></span></div></div></div></div></a></div>"
      ]
     },
     "execution_count": 12,
     "metadata": {},
     "output_type": "execute_result"
    }
   ],
   "source": [
    "books[1]"
   ]
  },
  {
   "cell_type": "code",
   "execution_count": 13,
   "metadata": {},
   "outputs": [
    {
     "data": {
      "text/plain": [
       "'NO GAME NO LIFE遊戲人生(11)遊戲玩家兄妹似乎必須成為情侶才能離開'"
      ]
     },
     "execution_count": 13,
     "metadata": {},
     "output_type": "execute_result"
    }
   ],
   "source": [
    "books[0].find(class_=\"sc-fzXfNO cjNSCe\").string"
   ]
  },
  {
   "cell_type": "code",
   "execution_count": 4,
   "metadata": {},
   "outputs": [
    {
     "name": "stdout",
     "output_type": "stream",
     "text": [
      "https://www.tcsb.com.tw//SalePage/Index/7590401\n"
     ]
    }
   ],
   "source": [
    "print(\"https://www.tcsb.com.tw/\" + books[0].a.get(\"href\"))"
   ]
  },
  {
   "cell_type": "code",
   "execution_count": 5,
   "metadata": {},
   "outputs": [
    {
     "data": {
      "text/plain": [
       "'NT$243'"
      ]
     },
     "execution_count": 5,
     "metadata": {},
     "output_type": "execute_result"
    }
   ],
   "source": [
    "books[0].find(class_=\"sc-fzXfNR bsRQkb\").string"
   ]
  },
  {
   "cell_type": "code",
   "execution_count": 10,
   "metadata": {},
   "outputs": [
    {
     "data": {
      "text/plain": [
       "'243'"
      ]
     },
     "execution_count": 10,
     "metadata": {},
     "output_type": "execute_result"
    }
   ],
   "source": [
    "pattern = re.compile(r\"(\\d+)\")\n",
    "pattern.search(str(books[0].find(class_=\"sc-fzXfNR bsRQkb\").string)).group(1)"
   ]
  },
  {
   "cell_type": "code",
   "execution_count": 2,
   "metadata": {},
   "outputs": [],
   "source": [
    "def tcsb_topten() -> List[Dict]:\n",
    "    topten = []\n",
    "    url = \"https://www.tcsb.com.tw/v2/official/SalePageCategory/264475?sortMode=Sales\"\n",
    "    driver = webdriver.Chrome(\"../src/d00_utils/chromedriver\")\n",
    "    driver.get(url)\n",
    "    html = driver.page_source\n",
    "    \n",
    "    soup = bs4.BeautifulSoup(html, \"html.parser\")\n",
    "    books = soup.find_all(class_=\"product-card__vertical product-card__vertical--hover\")[:10]\n",
    "    pattern = re.compile(r\"(\\d+)\")\n",
    "    rank =1\n",
    "    for b in books:\n",
    "        record = {\n",
    "            'rank': rank,\n",
    "            'name': b.find(class_=\"sc-fzXfNO cjNSCe\").string,\n",
    "            'price': int(pattern.search(str(b.find(class_=\"sc-fzXfNR bsRQkb\").string)).group(1)),\n",
    "            'url': \"https://www.tcsb.com.tw/\" + books[0].a.get(\"href\")\n",
    "        }\n",
    "        rank += 1\n",
    "        topten.append(record)\n",
    "    driver.close()\n",
    "    driver.quit()\n",
    "    return topten"
   ]
  },
  {
   "cell_type": "code",
   "execution_count": 3,
   "metadata": {},
   "outputs": [
    {
     "data": {
      "text/plain": [
       "[{'rank': 1,\n",
       "  'name': 'NO GAME NO LIFE遊戲人生(11)遊戲玩家兄妹似乎必須成為情侶才能離開',\n",
       "  'price': 243,\n",
       "  'url': 'https://www.tcsb.com.tw//SalePage/Index/7590401'},\n",
       " {'rank': 2,\n",
       "  'name': '咒術迴戰(18)',\n",
       "  'price': 90,\n",
       "  'url': 'https://www.tcsb.com.tw//SalePage/Index/7590401'},\n",
       " {'rank': 3,\n",
       "  'name': '好好再見不負遇見',\n",
       "  'price': 300,\n",
       "  'url': 'https://www.tcsb.com.tw//SalePage/Index/7590401'},\n",
       " {'rank': 4,\n",
       "  'name': 'T子％％走(1)',\n",
       "  'price': 237,\n",
       "  'url': 'https://www.tcsb.com.tw//SalePage/Index/7590401'},\n",
       " {'rank': 5,\n",
       "  'name': '高山低谷',\n",
       "  'price': 225,\n",
       "  'url': 'https://www.tcsb.com.tw//SalePage/Index/7590401'},\n",
       " {'rank': 6,\n",
       "  'name': '原子習慣(細微改變帶來巨大成就的實證法則)',\n",
       "  'price': 261,\n",
       "  'url': 'https://www.tcsb.com.tw//SalePage/Index/7590401'},\n",
       " {'rank': 7,\n",
       "  'name': '新制多益 NEW TOEIC 單字大全：2018起多益更新單字資訊完全掌握！(附13小時8種版本MP3)',\n",
       "  'price': 374,\n",
       "  'url': 'https://www.tcsb.com.tw//SalePage/Index/7590401'},\n",
       " {'rank': 8,\n",
       "  'name': '如果歷史是一群喵(9)五代十國篇(萌貓漫畫學歷史)',\n",
       "  'price': 353,\n",
       "  'url': 'https://www.tcsb.com.tw//SalePage/Index/7590401'},\n",
       " {'rank': 9,\n",
       "  'name': '做自己，為什麼還要說抱歉？',\n",
       "  'price': 308,\n",
       "  'url': 'https://www.tcsb.com.tw//SalePage/Index/7590401'},\n",
       " {'rank': 10,\n",
       "  'name': 'ONE PIECE航海王(101)(首刷限定版)',\n",
       "  'price': 122,\n",
       "  'url': 'https://www.tcsb.com.tw//SalePage/Index/7590401'}]"
      ]
     },
     "execution_count": 3,
     "metadata": {},
     "output_type": "execute_result"
    }
   ],
   "source": [
    "tcsb_topten()"
   ]
  },
  {
   "cell_type": "code",
   "execution_count": 24,
   "metadata": {},
   "outputs": [],
   "source": [
    "driver.quit()"
   ]
  },
  {
   "cell_type": "code",
   "execution_count": null,
   "metadata": {},
   "outputs": [],
   "source": []
  },
  {
   "cell_type": "code",
   "execution_count": null,
   "metadata": {},
   "outputs": [],
   "source": []
  },
  {
   "cell_type": "code",
   "execution_count": null,
   "metadata": {},
   "outputs": [],
   "source": []
  },
  {
   "cell_type": "code",
   "execution_count": null,
   "metadata": {},
   "outputs": [],
   "source": []
  },
  {
   "cell_type": "code",
   "execution_count": null,
   "metadata": {},
   "outputs": [],
   "source": []
  }
 ],
 "metadata": {
  "interpreter": {
   "hash": "6767928a2f088fec385fce67ee936276fe1e374abe3442e79e58294ccee8c84a"
  },
  "kernelspec": {
   "display_name": "Python 3.10.0 ('books')",
   "language": "python",
   "name": "python3"
  },
  "language_info": {
   "codemirror_mode": {
    "name": "ipython",
    "version": 3
   },
   "file_extension": ".py",
   "mimetype": "text/x-python",
   "name": "python",
   "nbconvert_exporter": "python",
   "pygments_lexer": "ipython3",
   "version": "3.10.0"
  },
  "orig_nbformat": 4
 },
 "nbformat": 4,
 "nbformat_minor": 2
}
