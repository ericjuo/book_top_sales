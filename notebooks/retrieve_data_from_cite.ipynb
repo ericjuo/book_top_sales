{
 "cells": [
  {
   "cell_type": "code",
   "execution_count": 1,
   "metadata": {},
   "outputs": [],
   "source": [
    "from typing import List, Dict\n",
    "import bs4\n",
    "import requests\n"
   ]
  },
  {
   "cell_type": "code",
   "execution_count": 5,
   "metadata": {},
   "outputs": [],
   "source": [
    "import re"
   ]
  },
  {
   "cell_type": "code",
   "execution_count": 2,
   "metadata": {},
   "outputs": [],
   "source": [
    "url = 'https://www.cite.com.tw/bestseller/index/parade/hit/all'\n",
    "r = requests.get(url)"
   ]
  },
  {
   "cell_type": "code",
   "execution_count": 4,
   "metadata": {},
   "outputs": [
    {
     "data": {
      "text/plain": [
       "<div class=\"col-md-2 col-sm-4 col-xs-6 item\">\n",
       "<div class=\"top_back text-center\">TOP 1</div>\n",
       "<div class=\"photo\">\n",
       "<div class=\"box_photo\">\n",
       "<a href=\"/book?id=91031\" title=\"《與你襄遇》林襄寫真書\">\n",
       "<img alt=\"《與你襄遇》林襄寫真書\" class=\"lazy img-responsive\" onerror=\"this.src='/images/nocover.gif'\" original=\"//cdn.cite.com.tw/thumbs/SPB1A000212.jpg\" src=\"/images/nocover.gif\" title=\"《與你襄遇》林襄寫真書\"/>\n",
       "</a>\n",
       "</div>\n",
       "</div>\n",
       "<div class=\"txt\">\n",
       "<h3 class=\"book-title\"><a href=\"/book?id=91031\" title=\"《與你襄遇》林襄寫真書\">《與你襄遇》林襄寫真書</a>\n",
       "</h3>\n",
       "<p>\n",
       "                    出版社：<a href=\"/publisher/about/49\" title=\"尖端\">尖端</a>\n",
       "</p>\n",
       "<p class=\"author-name\">作者：林襄 </p>\n",
       "<p>出版日：20220118</p>\n",
       "<p class=\"ft-red\"><s>$799</s> <span class=\"red\">優惠價631元</span></p>\n",
       "<div class=\"text-center\">\n",
       "<div id=\"cartBtn_91031\"><div class=\"button02 pointer width120\" onclick=\"buyBook('91031','6AA4A')\"><span>放入購物車</span></div></div> </div>\n",
       "</div>\n",
       "</div>"
      ]
     },
     "execution_count": 4,
     "metadata": {},
     "output_type": "execute_result"
    }
   ],
   "source": [
    "soup = bs4.BeautifulSoup(r.text, 'html.parser')\n",
    "books = soup.find_all(class_=\"col-md-2 col-sm-4 col-xs-6 item\")\n",
    "books[0]"
   ]
  },
  {
   "cell_type": "code",
   "execution_count": 6,
   "metadata": {},
   "outputs": [
    {
     "data": {
      "text/plain": [
       "'《與你襄遇》林襄寫真書'"
      ]
     },
     "execution_count": 6,
     "metadata": {},
     "output_type": "execute_result"
    }
   ],
   "source": [
    "books[0].h3.a.string"
   ]
  },
  {
   "cell_type": "code",
   "execution_count": 7,
   "metadata": {},
   "outputs": [
    {
     "name": "stdout",
     "output_type": "stream",
     "text": [
      "https://www.cite.com.tw/book?id=91031\n"
     ]
    }
   ],
   "source": [
    "print(\"https://www.cite.com.tw\" + books[0].h3.a.get(\"href\"))"
   ]
  },
  {
   "cell_type": "code",
   "execution_count": 26,
   "metadata": {},
   "outputs": [
    {
     "data": {
      "text/plain": [
       "'631'"
      ]
     },
     "execution_count": 26,
     "metadata": {},
     "output_type": "execute_result"
    }
   ],
   "source": [
    "pattern = re.compile(r\"(\\d+)\")\n",
    "pattern.search(str(books[0].find(class_=\"red\"))).group(0)"
   ]
  },
  {
   "cell_type": "code",
   "execution_count": 27,
   "metadata": {},
   "outputs": [],
   "source": [
    "def cite_topten() -> List[Dict]:\n",
    "    topten=[]\n",
    "    url = 'https://www.cite.com.tw/bestseller/index/parade/hit/all'\n",
    "    try:\n",
    "        r = requests.get(url)\n",
    "    except:\n",
    "        print(\"Bad connection, scrap failed!\")\n",
    "        return\n",
    "    soup = bs4.BeautifulSoup(r.text, \"html.parser\")\n",
    "    books = books = soup.find_all(class_=\"col-md-2 col-sm-4 col-xs-6 item\")[:10]\n",
    "    pattern = re.compile(r\"(\\d+)\")\n",
    "    rank = 1\n",
    "    for b in books:\n",
    "        record = {\n",
    "            'rank': rank,\n",
    "            'name': b.h3.a.string,\n",
    "            'price': int(pattern.search(str(b.find(class_=\"red\"))).group(0)),\n",
    "            'url': \"https://www.cite.com.tw\" + b.h3.a.get(\"href\")\n",
    "        }\n",
    "        rank += 1\n",
    "        topten.append(record)\n",
    "    return topten"
   ]
  },
  {
   "cell_type": "code",
   "execution_count": 28,
   "metadata": {},
   "outputs": [
    {
     "data": {
      "text/plain": [
       "[{'rank': 1,\n",
       "  'name': '《與你襄遇》林襄寫真書',\n",
       "  'price': 631,\n",
       "  'url': 'https://www.cite.com.tw/book?id=91031'},\n",
       " {'rank': 2,\n",
       "  'name': '萬海陳家政法商現形記：八仙塵燃五週年紀實',\n",
       "  'price': 237,\n",
       "  'url': 'https://www.cite.com.tw/book?id=85263'},\n",
       " {'rank': 3,\n",
       "  'name': '永遠在這裡：麵包樹第三本圖文作品',\n",
       "  'price': 277,\n",
       "  'url': 'https://www.cite.com.tw/book?id=90967'},\n",
       " {'rank': 4,\n",
       "  'name': '為了生存，我需要躁鬱症：宅媽花花的阿德勒個體心理學，重要的不是你擁有什麼，而是你如何運用它',\n",
       "  'price': 300,\n",
       "  'url': 'https://www.cite.com.tw/book?id=91180'},\n",
       " {'rank': 5,\n",
       "  'name': '希塔療癒——信念挖掘：重新連接潛意識 療癒你最深層的內在',\n",
       "  'price': 356,\n",
       "  'url': 'https://www.cite.com.tw/book?id=91026'},\n",
       " {'rank': 6,\n",
       "  'name': 'ETF實戰週記：樂活大叔的52個叮嚀',\n",
       "  'price': 300,\n",
       "  'url': 'https://www.cite.com.tw/book?id=90781'},\n",
       " {'rank': 7,\n",
       "  'name': '當責［全新增訂版］',\n",
       "  'price': 435,\n",
       "  'url': 'https://www.cite.com.tw/book?id=89922'},\n",
       " {'rank': 8,\n",
       "  'name': '鰻——窺天閣主人全集 散文與詩',\n",
       "  'price': 316,\n",
       "  'url': 'https://www.cite.com.tw/book?id=91245'},\n",
       " {'rank': 9,\n",
       "  'name': '療癒之島：在60種森林香氣裡，聞見台灣的力量',\n",
       "  'price': 458,\n",
       "  'url': 'https://www.cite.com.tw/book?id=90729'},\n",
       " {'rank': 10,\n",
       "  'name': '豐田精實管理現場執行筆記：問對問題，產出高效率',\n",
       "  'price': 332,\n",
       "  'url': 'https://www.cite.com.tw/book?id=88819'}]"
      ]
     },
     "execution_count": 28,
     "metadata": {},
     "output_type": "execute_result"
    }
   ],
   "source": [
    "cite_topten()"
   ]
  },
  {
   "cell_type": "code",
   "execution_count": null,
   "metadata": {},
   "outputs": [],
   "source": []
  }
 ],
 "metadata": {
  "interpreter": {
   "hash": "6767928a2f088fec385fce67ee936276fe1e374abe3442e79e58294ccee8c84a"
  },
  "kernelspec": {
   "display_name": "Python 3.10.0 ('books')",
   "language": "python",
   "name": "python3"
  },
  "language_info": {
   "codemirror_mode": {
    "name": "ipython",
    "version": 3
   },
   "file_extension": ".py",
   "mimetype": "text/x-python",
   "name": "python",
   "nbconvert_exporter": "python",
   "pygments_lexer": "ipython3",
   "version": "3.10.0"
  },
  "orig_nbformat": 4
 },
 "nbformat": 4,
 "nbformat_minor": 2
}
